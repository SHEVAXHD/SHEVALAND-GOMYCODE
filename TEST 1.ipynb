{
 "cells": [
  {
   "cell_type": "code",
   "execution_count": 10,
   "id": "98a1d3b9",
   "metadata": {},
   "outputs": [
    {
     "data": {
      "text/plain": [
       "str"
      ]
     },
     "execution_count": 10,
     "metadata": {},
     "output_type": "execute_result"
    }
   ],
   "source": [
    "type((\"true\")) "
   ]
  },
  {
   "cell_type": "code",
   "execution_count": 1,
   "id": "b9295d17",
   "metadata": {},
   "outputs": [
    {
     "ename": "NameError",
     "evalue": "name 'df' is not defined",
     "output_type": "error",
     "traceback": [
      "\u001b[1;31m---------------------------------------------------------------------------\u001b[0m",
      "\u001b[1;31mNameError\u001b[0m                                 Traceback (most recent call last)",
      "\u001b[1;32m~\\AppData\\Local\\Temp\\ipykernel_5384\\3771845804.py\u001b[0m in \u001b[0;36m<module>\u001b[1;34m\u001b[0m\n\u001b[1;32m----> 1\u001b[1;33m \u001b[0mdf\u001b[0m\u001b[1;33m.\u001b[0m\u001b[0minfo\u001b[0m\u001b[1;33m(\u001b[0m\u001b[1;33m)\u001b[0m\u001b[1;33m\u001b[0m\u001b[1;33m\u001b[0m\u001b[0m\n\u001b[0m",
      "\u001b[1;31mNameError\u001b[0m: name 'df' is not defined"
     ]
    }
   ],
   "source": []
  },
  {
   "cell_type": "code",
   "execution_count": null,
   "id": "48cae08c",
   "metadata": {},
   "outputs": [],
   "source": []
  },
  {
   "cell_type": "code",
   "execution_count": 4,
   "id": "a514b936",
   "metadata": {},
   "outputs": [
    {
     "data": {
      "text/plain": [
       "str"
      ]
     },
     "execution_count": 4,
     "metadata": {},
     "output_type": "execute_result"
    }
   ],
   "source": [
    "type((\"false\"))"
   ]
  },
  {
   "cell_type": "code",
   "execution_count": 6,
   "id": "dca367e9",
   "metadata": {},
   "outputs": [
    {
     "data": {
      "text/plain": [
       "list"
      ]
     },
     "execution_count": 6,
     "metadata": {},
     "output_type": "execute_result"
    }
   ],
   "source": [
    "type([7,20])"
   ]
  },
  {
   "cell_type": "code",
   "execution_count": 11,
   "id": "00ead14b",
   "metadata": {},
   "outputs": [
    {
     "data": {
      "text/plain": [
       "list"
      ]
     },
     "execution_count": 11,
     "metadata": {},
     "output_type": "execute_result"
    }
   ],
   "source": [
    "type([6,10])"
   ]
  },
  {
   "cell_type": "code",
   "execution_count": 12,
   "id": "c4b340d7",
   "metadata": {},
   "outputs": [
    {
     "data": {
      "text/plain": [
       "str"
      ]
     },
     "execution_count": 12,
     "metadata": {},
     "output_type": "execute_result"
    }
   ],
   "source": [
    "type(\"hello\")"
   ]
  },
  {
   "cell_type": "code",
   "execution_count": 13,
   "id": "8b7ccbfe",
   "metadata": {},
   "outputs": [
    {
     "data": {
      "text/plain": [
       "str"
      ]
     },
     "execution_count": 13,
     "metadata": {},
     "output_type": "execute_result"
    }
   ],
   "source": [
    "type(\"bonjour\")"
   ]
  },
  {
   "cell_type": "code",
   "execution_count": 14,
   "id": "b1fcf02d",
   "metadata": {},
   "outputs": [
    {
     "data": {
      "text/plain": [
       "int"
      ]
     },
     "execution_count": 14,
     "metadata": {},
     "output_type": "execute_result"
    }
   ],
   "source": [
    "type(1)"
   ]
  },
  {
   "cell_type": "code",
   "execution_count": 15,
   "id": "806de0ce",
   "metadata": {},
   "outputs": [
    {
     "data": {
      "text/plain": [
       "int"
      ]
     },
     "execution_count": 15,
     "metadata": {},
     "output_type": "execute_result"
    }
   ],
   "source": [
    "type(56)"
   ]
  },
  {
   "cell_type": "code",
   "execution_count": 5,
   "id": "bd6a9173",
   "metadata": {},
   "outputs": [
    {
     "name": "stdout",
     "output_type": "stream",
     "text": [
      "36\n"
     ]
    }
   ],
   "source": [
    "age=36\n",
    "print(age)\n"
   ]
  },
  {
   "cell_type": "code",
   "execution_count": 18,
   "id": "20841bf0",
   "metadata": {},
   "outputs": [
    {
     "name": "stdout",
     "output_type": "stream",
     "text": [
      "58.8\n"
     ]
    }
   ],
   "source": [
    "poids=58.8\n",
    "print(poids)\n"
   ]
  },
  {
   "cell_type": "code",
   "execution_count": 9,
   "id": "c9628040",
   "metadata": {},
   "outputs": [
    {
     "name": "stdout",
     "output_type": "stream",
     "text": [
      "Martial\n"
     ]
    }
   ],
   "source": [
    "nom= 'Martial'\n",
    "print(nom)"
   ]
  },
  {
   "cell_type": "code",
   "execution_count": 10,
   "id": "4b6fd182",
   "metadata": {},
   "outputs": [
    {
     "name": "stdout",
     "output_type": "stream",
     "text": [
      "qu'est mon nom ?\n"
     ]
    }
   ],
   "source": [
    "print (\"qu'est mon nom ?\") "
   ]
  },
  {
   "cell_type": "code",
   "execution_count": 15,
   "id": "f6704610",
   "metadata": {},
   "outputs": [
    {
     "name": "stdout",
     "output_type": "stream",
     "text": [
      "Martial\n",
      "\n",
      "(58, 8)\n",
      "\n",
      "36\n"
     ]
    }
   ],
   "source": [
    "print(nom)\n",
    "print()\n",
    "print(poids)\n",
    "print()\n",
    "print(age)\n"
   ]
  },
  {
   "cell_type": "code",
   "execution_count": 16,
   "id": "e7569bab",
   "metadata": {},
   "outputs": [
    {
     "name": "stdout",
     "output_type": "stream",
     "text": [
      "36\n"
     ]
    }
   ],
   "source": [
    "type(age)\n",
    "print(age)"
   ]
  },
  {
   "cell_type": "code",
   "execution_count": 17,
   "id": "fa42c44c",
   "metadata": {},
   "outputs": [
    {
     "name": "stdout",
     "output_type": "stream",
     "text": [
      "<class 'int'>\n"
     ]
    }
   ],
   "source": [
    "print(type(age))\n"
   ]
  },
  {
   "cell_type": "code",
   "execution_count": 19,
   "id": "734d4b7f",
   "metadata": {},
   "outputs": [
    {
     "name": "stdout",
     "output_type": "stream",
     "text": [
      "<class 'float'>\n"
     ]
    }
   ],
   "source": [
    "print(type(poids))"
   ]
  },
  {
   "cell_type": "code",
   "execution_count": 20,
   "id": "d8f34b74",
   "metadata": {},
   "outputs": [
    {
     "name": "stdout",
     "output_type": "stream",
     "text": [
      "rouge\n"
     ]
    }
   ],
   "source": [
    "couleur=\"rouge\"\n",
    "print(couleur)"
   ]
  },
  {
   "cell_type": "code",
   "execution_count": 21,
   "id": "ef447980",
   "metadata": {},
   "outputs": [
    {
     "name": "stdout",
     "output_type": "stream",
     "text": [
      "<class 'str'>\n"
     ]
    }
   ],
   "source": [
    "print(type(couleur))"
   ]
  },
  {
   "cell_type": "code",
   "execution_count": 23,
   "id": "19dbe4cf",
   "metadata": {},
   "outputs": [
    {
     "name": "stdout",
     "output_type": "stream",
     "text": [
      "<class 'bool'>\n"
     ]
    }
   ],
   "source": [
    "noir=True\n",
    "print(type(noir))"
   ]
  },
  {
   "cell_type": "code",
   "execution_count": 24,
   "id": "c7bec6b8",
   "metadata": {},
   "outputs": [
    {
     "name": "stdout",
     "output_type": "stream",
     "text": [
      "<class 'bool'>\n"
     ]
    }
   ],
   "source": [
    "chat=False\n",
    "print(type(chat))"
   ]
  },
  {
   "cell_type": "code",
   "execution_count": 25,
   "id": "0f5d726d",
   "metadata": {},
   "outputs": [
    {
     "name": "stdout",
     "output_type": "stream",
     "text": [
      "True\n",
      "\n",
      "False\n",
      "\n",
      "36\n",
      "\n",
      "Martial\n",
      "\n",
      "58.8\n",
      "\n",
      "rouge\n"
     ]
    }
   ],
   "source": [
    "print(noir)\n",
    "print()\n",
    "print(chat)\n",
    "print()\n",
    "print(age)\n",
    "print()\n",
    "print(nom)\n",
    "print()\n",
    "print(poids)\n",
    "print()\n",
    "print(couleur)"
   ]
  },
  {
   "cell_type": "code",
   "execution_count": 27,
   "id": "32e65e2a",
   "metadata": {},
   "outputs": [
    {
     "name": "stdout",
     "output_type": "stream",
     "text": [
      "36\n"
     ]
    }
   ],
   "source": [
    "age=36\n",
    "print(age)\n"
   ]
  },
  {
   "cell_type": "code",
   "execution_count": 29,
   "id": "9eaa9197",
   "metadata": {},
   "outputs": [
    {
     "name": "stdout",
     "output_type": "stream",
     "text": [
      "<class 'int'>\n"
     ]
    }
   ],
   "source": [
    "print(type(age))"
   ]
  },
  {
   "cell_type": "code",
   "execution_count": 30,
   "id": "13193a22",
   "metadata": {},
   "outputs": [
    {
     "data": {
      "text/plain": [
       "36.0"
      ]
     },
     "execution_count": 30,
     "metadata": {},
     "output_type": "execute_result"
    }
   ],
   "source": [
    "float(age)"
   ]
  },
  {
   "cell_type": "code",
   "execution_count": 31,
   "id": "a920feae",
   "metadata": {},
   "outputs": [
    {
     "data": {
      "text/plain": [
       "'36'"
      ]
     },
     "execution_count": 31,
     "metadata": {},
     "output_type": "execute_result"
    }
   ],
   "source": [
    "import"
   ]
  },
  {
   "cell_type": "code",
   "execution_count": 32,
   "id": "c6bccbc5",
   "metadata": {},
   "outputs": [
    {
     "name": "stdout",
     "output_type": "stream",
     "text": [
      "<class 'int'>\n"
     ]
    }
   ],
   "source": [
    "print(type(age))"
   ]
  },
  {
   "cell_type": "code",
   "execution_count": 34,
   "id": "f890bdb2",
   "metadata": {},
   "outputs": [
    {
     "name": "stdout",
     "output_type": "stream",
     "text": [
      "36\n"
     ]
    }
   ],
   "source": [
    "resultat=str(age)\n",
    "print (resultat)"
   ]
  },
  {
   "cell_type": "code",
   "execution_count": 35,
   "id": "a96cbb01",
   "metadata": {},
   "outputs": [
    {
     "name": "stdout",
     "output_type": "stream",
     "text": [
      "<class 'str'>\n"
     ]
    }
   ],
   "source": [
    "print(type(resultat))"
   ]
  },
  {
   "cell_type": "code",
   "execution_count": 36,
   "id": "be169eec",
   "metadata": {},
   "outputs": [
    {
     "data": {
      "text/plain": [
       "True"
      ]
     },
     "execution_count": 36,
     "metadata": {},
     "output_type": "execute_result"
    }
   ],
   "source": [
    "bool(age)"
   ]
  },
  {
   "cell_type": "code",
   "execution_count": 37,
   "id": "72c90183",
   "metadata": {},
   "outputs": [
    {
     "name": "stdout",
     "output_type": "stream",
     "text": [
      "36\n"
     ]
    }
   ],
   "source": [
    "resultat2=bool(age)\n",
    "print(resultat)"
   ]
  },
  {
   "cell_type": "code",
   "execution_count": 38,
   "id": "3c62dd4a",
   "metadata": {},
   "outputs": [
    {
     "name": "stdout",
     "output_type": "stream",
     "text": [
      "<class 'bool'>\n"
     ]
    }
   ],
   "source": [
    "print(type(resultat2))"
   ]
  },
  {
   "cell_type": "code",
   "execution_count": 39,
   "id": "75ffdd73",
   "metadata": {},
   "outputs": [
    {
     "name": "stdout",
     "output_type": "stream",
     "text": [
      "l\n"
     ]
    }
   ],
   "source": [
    "chaine=\"Hello\"\n",
    "print(chaine[3])\n"
   ]
  },
  {
   "cell_type": "code",
   "execution_count": 2,
   "id": "65c998a1",
   "metadata": {},
   "outputs": [
    {
     "name": "stdout",
     "output_type": "stream",
     "text": [
      "8\n"
     ]
    }
   ],
   "source": [
    "a=2\n",
    "b=6\n",
    "print(a+b)\n"
   ]
  },
  {
   "cell_type": "code",
   "execution_count": 6,
   "id": "610184b3",
   "metadata": {},
   "outputs": [
    {
     "ename": "SyntaxError",
     "evalue": "invalid syntax (564291684.py, line 2)",
     "output_type": "error",
     "traceback": [
      "\u001b[1;36m  File \u001b[1;32m\"C:\\Users\\SHEVALAND\\AppData\\Local\\Temp\\ipykernel_2348\\564291684.py\"\u001b[1;36m, line \u001b[1;32m2\u001b[0m\n\u001b[1;33m    print(a)>\u001b[0m\n\u001b[1;37m              ^\u001b[0m\n\u001b[1;31mSyntaxError\u001b[0m\u001b[1;31m:\u001b[0m invalid syntax\n"
     ]
    }
   ],
   "source": [
    "if a < b:\n",
    "    print(a)> "
   ]
  },
  {
   "cell_type": "code",
   "execution_count": 12,
   "id": "31a5791f",
   "metadata": {},
   "outputs": [
    {
     "name": "stdout",
     "output_type": "stream",
     "text": [
      "a est plus grand\n"
     ]
    }
   ],
   "source": [
    "a=2\n",
    "b=6\n",
    "if a<b:\n",
    "    print(\"b est plus grand\")"
   ]
  },
  {
   "cell_type": "code",
   "execution_count": 13,
   "id": "53c06b28",
   "metadata": {},
   "outputs": [],
   "source": [
    "if a>b:\n",
    "    print(\"a>b\")"
   ]
  },
  {
   "cell_type": "code",
   "execution_count": 14,
   "id": "76cac6f1",
   "metadata": {},
   "outputs": [
    {
     "name": "stdout",
     "output_type": "stream",
     "text": [
      "b est plus grand\n"
     ]
    }
   ],
   "source": [
    "a=2\n",
    "b=6\n",
    "if a<b:\n",
    "    print(\"b est plus grand\")\n",
    "else:\n",
    "    print(\"a est plus grand\")"
   ]
  },
  {
   "cell_type": "code",
   "execution_count": 17,
   "id": "6ef7df46",
   "metadata": {},
   "outputs": [
    {
     "name": "stdout",
     "output_type": "stream",
     "text": [
      "TB\n"
     ]
    }
   ],
   "source": [
    "note=17\n",
    "if note >=18:\n",
    "    print(\"Ex\")\n",
    "if note <18 and note >=16:\n",
    "    print(\"TB\")\n",
    "if note <16 and note >=14:\n",
    "    print(\"B\")\n",
    "if note <14 and note >=12:\n",
    "    print(\"AB\")\n",
    "if note <12 and note >=10:\n",
    "    print(\"P\")\n",
    "if note <10 and note >=8:\n",
    "    print(\"M\")\n",
    "if note <8 and note >=6:\n",
    "    print(\"N\")\n",
    "if note <6 and note >1:\n",
    "    print(\"non classé\")"
   ]
  },
  {
   "cell_type": "code",
   "execution_count": 18,
   "id": "afac67fd",
   "metadata": {},
   "outputs": [
    {
     "name": "stdout",
     "output_type": "stream",
     "text": [
      "N\n"
     ]
    }
   ],
   "source": [
    "note=\n",
    "if note >= 18:\n",
    "    print(\"Ex\")\n",
    "elif note >=16:\n",
    "    print(\"TB\")\n",
    "elif note >=14:\n",
    "    print(\"B\")\n",
    "elif note >=12:\n",
    "    print(\"AB\")\n",
    "elif note >=10:\n",
    "    print(\"P\")\n",
    "elif note >=8:\n",
    "    print(\"M\")\n",
    "elif note >=6:\n",
    "    print(\"N\")\n",
    "elif note >=1:\n",
    "    print(\"non classé\")\n",
    "    \n"
   ]
  },
  {
   "cell_type": "code",
   "execution_count": null,
   "id": "046ce373",
   "metadata": {},
   "outputs": [],
   "source": [
    "# exercice 1 \n",
    "\n",
    "liste=[]\n",
    "for Zip in range (2000,3201):\n",
    "    if Zip %7==0 and Zip %5!=0:\n",
    "        liste.append(Zip)\n",
    "print(liste)"
   ]
  },
  {
   "cell_type": "code",
   "execution_count": 2,
   "id": "b835e7ca",
   "metadata": {},
   "outputs": [
    {
     "name": "stdout",
     "output_type": "stream",
     "text": [
      "24\n"
     ]
    }
   ],
   "source": [
    "# exercice 2\n",
    "\n",
    "def facto(nombre):\n",
    "    compteur= nombre\n",
    "    factoriel=nombre\n",
    "    while compteur>1:\n",
    "        compteur=compteur-1\n",
    "        factoriel=factoriel*compteur\n",
    "    return factoriel\n",
    "\n",
    "\n",
    "print(facto(4))"
   ]
  },
  {
   "cell_type": "code",
   "execution_count": 1,
   "id": "98618148",
   "metadata": {},
   "outputs": [
    {
     "name": "stdout",
     "output_type": "stream",
     "text": [
      "entre le nombre36\n"
     ]
    },
    {
     "data": {
      "text/plain": [
       "{1: 1,\n",
       " 2: 4,\n",
       " 3: 9,\n",
       " 4: 16,\n",
       " 5: 25,\n",
       " 6: 36,\n",
       " 7: 49,\n",
       " 8: 64,\n",
       " 9: 81,\n",
       " 10: 100,\n",
       " 11: 121,\n",
       " 12: 144,\n",
       " 13: 169,\n",
       " 14: 196,\n",
       " 15: 225,\n",
       " 16: 256,\n",
       " 17: 289,\n",
       " 18: 324,\n",
       " 19: 361,\n",
       " 20: 400,\n",
       " 21: 441,\n",
       " 22: 484,\n",
       " 23: 529,\n",
       " 24: 576,\n",
       " 25: 625,\n",
       " 26: 676,\n",
       " 27: 729,\n",
       " 28: 784,\n",
       " 29: 841,\n",
       " 30: 900,\n",
       " 31: 961,\n",
       " 32: 1024,\n",
       " 33: 1089,\n",
       " 34: 1156,\n",
       " 35: 1225,\n",
       " 36: 1296}"
      ]
     },
     "execution_count": 1,
     "metadata": {},
     "output_type": "execute_result"
    }
   ],
   "source": [
    "# exercice 3\n",
    "\n",
    "def dict():\n",
    "    resultat={}\n",
    "    nbre=int(input(\"entre le nombre\"))\n",
    "    for vleur in range(1,nbre+1):\n",
    "        resultat[vleur]=vleur*vleur\n",
    "    return resultat\n",
    "\n",
    "dict()"
   ]
  },
  {
   "cell_type": "code",
   "execution_count": 1,
   "id": "4f7bb5de",
   "metadata": {},
   "outputs": [
    {
     "name": "stdout",
     "output_type": "stream",
     "text": [
      "entrez index 56\n",
      "entrez la chaine ZERTYUIO\n",
      "pas possible\n"
     ]
    },
    {
     "data": {
      "text/plain": [
       "''"
      ]
     },
     "execution_count": 1,
     "metadata": {},
     "output_type": "execute_result"
    }
   ],
   "source": [
    "#excercice 4\n",
    "\n",
    "def chaine():\n",
    "    nvelle_chaine=\"\"\n",
    "    index=int(input(\"entrez index \"))\n",
    "    chaine=input(\"entrez la chaine \")\n",
    "    nbre=range(len(chaine))\n",
    "    if index in nbre:\n",
    "        nvelle_chaine=chaine[:index]+chaine[index+1:]\n",
    "    else:\n",
    "        print('pas possible')\n",
    "    return nvelle_chaine\n",
    "\n",
    "chaine()"
   ]
  },
  {
   "cell_type": "code",
   "execution_count": 2,
   "id": "b7b9b7a2",
   "metadata": {},
   "outputs": [
    {
     "name": "stdout",
     "output_type": "stream",
     "text": [
      "1.5\n"
     ]
    }
   ],
   "source": [
    "#Exercice 6\n",
    "\n",
    "import numpy as np\n",
    "\n",
    "array1 = np.array([1,2,3])\n",
    "array2 = np.array([2,4,5])\n",
    "\n",
    "covariance = np.cov(array1,array2)[0][1]\n",
    "print(covariance)\n",
    "\n",
    "\n",
    "\n",
    "\n"
   ]
  },
  {
   "cell_type": "code",
   "execution_count": 1,
   "id": "063e77a2",
   "metadata": {},
   "outputs": [
    {
     "name": "stdout",
     "output_type": "stream",
     "text": [
      "entrez les valeurs séparées par des virgules12,56,100\n",
      "[6, 13, 18]\n"
     ]
    }
   ],
   "source": [
    "#exercice 7\n",
    "\n",
    "def exercice_7():\n",
    "    x=input('entrez les valeurs séparées par des virgules')\n",
    "    y=x.split(',')\n",
    "    liste = []\n",
    "    for valeur in y:\n",
    "        liste.append(int(((2*50*int(valeur))/30)**(1/2)))\n",
    "    return liste \n",
    "print(exercice_7())"
   ]
  },
  {
   "cell_type": "code",
   "execution_count": 14,
   "id": "232d0b5e",
   "metadata": {},
   "outputs": [],
   "source": [
    "#EXERCICE 5\n",
    "import numpy as np\n",
    "\n",
    "def exercice_5(liste):\n",
    "    my_array = np.array(liste)\n",
    "    my_list=my_array.toliste()\n",
    "    return my_liste,\n",
    "type(my_list)\n",
    "\n",
    "print(exercice_5([1,4,6]))"
   ]
  },
  {
   "cell_type": "code",
   "execution_count": null,
   "id": "24379c25",
   "metadata": {},
   "outputs": [],
   "source": []
  },
  {
   "cell_type": "code",
   "execution_count": null,
   "id": "b91453ae",
   "metadata": {},
   "outputs": [],
   "source": []
  }
 ],
 "metadata": {
  "kernelspec": {
   "display_name": "Python 3 (ipykernel)",
   "language": "python",
   "name": "python3"
  },
  "language_info": {
   "codemirror_mode": {
    "name": "ipython",
    "version": 3
   },
   "file_extension": ".py",
   "mimetype": "text/x-python",
   "name": "python",
   "nbconvert_exporter": "python",
   "pygments_lexer": "ipython3",
   "version": "3.9.13"
  }
 },
 "nbformat": 4,
 "nbformat_minor": 5
}
